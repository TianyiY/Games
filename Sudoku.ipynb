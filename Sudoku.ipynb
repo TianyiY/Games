{
 "cells": [
  {
   "cell_type": "code",
   "execution_count": 1,
   "metadata": {
    "collapsed": false
   },
   "outputs": [
    {
     "name": "stdout",
     "output_type": "stream",
     "text": [
      "First Sudoku\n",
      "4 8 3 |9 2 1 |6 5 7 \n",
      "9 6 7 |3 4 5 |8 2 1 \n",
      "2 5 1 |8 7 6 |4 9 3 \n",
      "------+------+------\n",
      "5 4 8 |1 3 2 |9 7 6 \n",
      "7 2 9 |5 6 4 |1 3 8 \n",
      "1 3 6 |7 9 8 |2 4 5 \n",
      "------+------+------\n",
      "3 7 2 |6 8 9 |5 1 4 \n",
      "8 1 4 |2 5 3 |7 6 9 \n",
      "6 9 5 |4 1 7 |3 8 2 \n",
      "Second Sudoku\n",
      "4 1 7 |3 6 9 |8 2 5 \n",
      "6 3 2 |1 5 8 |9 4 7 \n",
      "9 5 8 |7 2 4 |3 1 6 \n",
      "------+------+------\n",
      "8 2 5 |4 3 7 |1 6 9 \n",
      "7 9 1 |5 8 6 |4 3 2 \n",
      "3 4 6 |9 1 2 |7 5 8 \n",
      "------+------+------\n",
      "2 8 9 |6 4 3 |5 7 1 \n",
      "5 7 3 |2 9 1 |6 8 4 \n",
      "1 6 4 |8 7 5 |2 9 3 \n"
     ]
    }
   ],
   "source": [
    "from utils import *\n",
    "\n",
    "def reduce_puzzle(values):\n",
    "    \"\"\"\n",
    "        Iterate eliminate() and only_choice(). If at some point, there is a box with no available values, return False.\n",
    "        If the sudoku is solved, return the sudoku.\n",
    "        If after an iteration of both functions, the sudoku remains the same, return the sudoku.\n",
    "        Input: A sudoku in dictionary form.\n",
    "        Output: The resulting sudoku in dictionary form.\n",
    "        \"\"\"\n",
    "    stalled=False\n",
    "    while not stalled:\n",
    "        # check the number of boxes which have a determined value\n",
    "        solved_num_before=len([box for box in values.keys() if len(values[box])==1])\n",
    "        # Eliminate\n",
    "        values=eliminate(values)\n",
    "        # Only choice\n",
    "        values=only_choice(values)\n",
    "        # check the number of boxes which have a determined value after eliminate and only choice\n",
    "        solved_num_after=len([box for box in values.keys() if len(values[box])==1])\n",
    "        # check whether there are new values added, if no, stalled, stop loop\n",
    "        stalled=solved_num_before==solved_num_after\n",
    "        # check whether there is a box with zero number available\n",
    "        if len([box for box in values.keys() if len(values[box])==0]):\n",
    "            # if true, stop\n",
    "            return False\n",
    "    return values\n",
    "\n",
    "\n",
    "def search(values):\n",
    "    # Depth First Search, try all possible values\n",
    "    # reduce puzzle first\n",
    "    values=reduce_puzzle(values)\n",
    "    if values is False:\n",
    "        # Failed\n",
    "        return False\n",
    "    if all(len(values[s])==1 for s in boxes):\n",
    "        # success!\n",
    "        return values\n",
    "    # search start with the box with the fewest possibilities\n",
    "    shortest_len, shortest_box=min((len(values[box]), box) for box in boxes if len(values[box])>1)\n",
    "    # recursively searching\n",
    "    for value in values[shortest_box]:\n",
    "        new_values=values.copy()\n",
    "        new_values[shortest_box]=value\n",
    "        try_values=search(new_values)\n",
    "        if try_values:\n",
    "            return try_values\n",
    "\n",
    "input_string1='..3.2.6..9..3.5..1..18.64....81.29..7.......8..67.82....26.95..8..2.3..9..5.1.3..'\n",
    "input_string2='4.....8.5.3..........7......2.....6.....8.4......1.......6.3.7.5..2.....1.4......'\n",
    "\n",
    "print ('First Sudoku')\n",
    "sudoku1=grid_values(input_string1)\n",
    "sudoku1=search(sudoku1)\n",
    "display(sudoku1)\n",
    "\n",
    "print ('Second Sudoku')\n",
    "sudoku2=grid_values(input_string2)\n",
    "sudoku2=search(sudoku2)\n",
    "display(sudoku2)\n"
   ]
  },
  {
   "cell_type": "code",
   "execution_count": null,
   "metadata": {
    "collapsed": true
   },
   "outputs": [],
   "source": []
  }
 ],
 "metadata": {
  "kernelspec": {
   "display_name": "Python 2",
   "language": "python",
   "name": "python2"
  },
  "language_info": {
   "codemirror_mode": {
    "name": "ipython",
    "version": 2
   },
   "file_extension": ".py",
   "mimetype": "text/x-python",
   "name": "python",
   "nbconvert_exporter": "python",
   "pygments_lexer": "ipython2",
   "version": "2.7.13"
  }
 },
 "nbformat": 4,
 "nbformat_minor": 2
}
